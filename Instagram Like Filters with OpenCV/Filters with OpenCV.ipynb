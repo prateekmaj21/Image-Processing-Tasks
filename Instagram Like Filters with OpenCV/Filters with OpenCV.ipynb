{
 "cells": [
  {
   "cell_type": "code",
   "execution_count": 1,
   "metadata": {},
   "outputs": [],
   "source": [
    "import cv2\n",
    "import numpy as np\n",
    "import scipy"
   ]
  },
  {
   "cell_type": "code",
   "execution_count": 2,
   "metadata": {},
   "outputs": [],
   "source": [
    "#Read the image\n",
    "\n",
    "image = cv2.imread('shop.jpg')"
   ]
  },
  {
   "cell_type": "code",
   "execution_count": 3,
   "metadata": {},
   "outputs": [],
   "source": [
    "#greyscale filter\n",
    "\n",
    "def greyscale(img):\n",
    "    \n",
    "    greyscale = cv2.cvtColor(img, cv2.COLOR_BGR2GRAY)\n",
    "    return greyscale "
   ]
  },
  {
   "cell_type": "code",
   "execution_count": 4,
   "metadata": {},
   "outputs": [],
   "source": [
    "#making the greyscale image\n",
    "\n",
    "a1 = greyscale(image)"
   ]
  },
  {
   "cell_type": "code",
   "execution_count": 5,
   "metadata": {},
   "outputs": [
    {
     "data": {
      "text/plain": [
       "True"
      ]
     },
     "execution_count": 5,
     "metadata": {},
     "output_type": "execute_result"
    }
   ],
   "source": [
    "filename = 'greyscale.jpg'\n",
    "  \n",
    "# Using cv2.imwrite() method\n",
    "# Saving the image\n",
    "cv2.imwrite(filename, a1)\n"
   ]
  },
  {
   "cell_type": "code",
   "execution_count": 6,
   "metadata": {},
   "outputs": [],
   "source": [
    "# brightness adjustment\n",
    "\n",
    "def bright(img, beta_value ):\n",
    "    \n",
    "    \n",
    "    img_bright = cv2.convertScaleAbs(img, beta=beta_value)\n",
    "    \n",
    "    \n",
    "    return img_bright "
   ]
  },
  {
   "cell_type": "code",
   "execution_count": 7,
   "metadata": {},
   "outputs": [],
   "source": [
    "#making the  more bright image\n",
    "#positive beta value\n",
    "\n",
    "a2 = bright(image, 60)"
   ]
  },
  {
   "cell_type": "code",
   "execution_count": 8,
   "metadata": {},
   "outputs": [],
   "source": [
    "#making the  less bright image\n",
    "#negative beta value\n",
    "\n",
    "a3 = bright(image, -60)"
   ]
  },
  {
   "cell_type": "code",
   "execution_count": 9,
   "metadata": {},
   "outputs": [
    {
     "data": {
      "text/plain": [
       "True"
      ]
     },
     "execution_count": 9,
     "metadata": {},
     "output_type": "execute_result"
    }
   ],
   "source": [
    "filename = 'more_bright.jpg'\n",
    "  \n",
    "# Using cv2.imwrite() method\n",
    "# Saving the image\n",
    "cv2.imwrite(filename, a2)\n"
   ]
  },
  {
   "cell_type": "code",
   "execution_count": 10,
   "metadata": {},
   "outputs": [
    {
     "data": {
      "text/plain": [
       "True"
      ]
     },
     "execution_count": 10,
     "metadata": {},
     "output_type": "execute_result"
    }
   ],
   "source": [
    "filename = 'less_bright.jpg'\n",
    "  \n",
    "# Using cv2.imwrite() method\n",
    "# Saving the image\n",
    "cv2.imwrite(filename, a3)\n"
   ]
  },
  {
   "cell_type": "code",
   "execution_count": 11,
   "metadata": {},
   "outputs": [],
   "source": [
    "#sharp effect\n",
    "\n",
    "def sharpen(img):\n",
    "    \n",
    "    \n",
    "    kernel = np.array([[-1, -1, -1], [-1, 9.5, -1], [-1, -1, -1]])\n",
    "    img_sharpen = cv2.filter2D(img, -1, kernel)\n",
    "    \n",
    "    return img_sharpen "
   ]
  },
  {
   "cell_type": "code",
   "execution_count": 12,
   "metadata": {},
   "outputs": [],
   "source": [
    "#making the sharp image\n",
    "\n",
    "a4 = sharpen(image)"
   ]
  },
  {
   "cell_type": "code",
   "execution_count": 13,
   "metadata": {},
   "outputs": [
    {
     "data": {
      "text/plain": [
       "True"
      ]
     },
     "execution_count": 13,
     "metadata": {},
     "output_type": "execute_result"
    }
   ],
   "source": [
    "filename = 'sharpen.jpg'\n",
    "  \n",
    "# Using cv2.imwrite() method\n",
    "# Saving the image\n",
    "cv2.imwrite(filename, a4)\n"
   ]
  },
  {
   "cell_type": "code",
   "execution_count": 14,
   "metadata": {},
   "outputs": [],
   "source": [
    "#sepia effect\n",
    "\n",
    "def sepia(img):\n",
    "    \n",
    "    \n",
    "    img_sepia = np.array(img, dtype=np.float64) # converting to float to prevent loss\n",
    "    img_sepia = cv2.transform(img_sepia, np.matrix([[0.272, 0.534, 0.131],\n",
    "                                    [0.349, 0.686, 0.168],\n",
    "                                    [0.393, 0.769, 0.189]])) # multipying image with special sepia matrix\n",
    "    img_sepia[np.where(img_sepia > 255)] = 255 # normalizing values greater than 255 to 255\n",
    "    img_sepia = np.array(img_sepia, dtype=np.uint8)\n",
    "    \n",
    "    return img_sepia "
   ]
  },
  {
   "cell_type": "code",
   "execution_count": 15,
   "metadata": {},
   "outputs": [],
   "source": [
    "#making the sepia image\n",
    "\n",
    "a5 = sepia(image)"
   ]
  },
  {
   "cell_type": "code",
   "execution_count": 16,
   "metadata": {},
   "outputs": [
    {
     "data": {
      "text/plain": [
       "True"
      ]
     },
     "execution_count": 16,
     "metadata": {},
     "output_type": "execute_result"
    }
   ],
   "source": [
    "filename = 'sepia.jpg'\n",
    "  \n",
    "# Using cv2.imwrite() method\n",
    "# Saving the image\n",
    "cv2.imwrite(filename, a5)\n"
   ]
  },
  {
   "cell_type": "code",
   "execution_count": 17,
   "metadata": {},
   "outputs": [],
   "source": [
    "#grey pencil sketch effect\n",
    "\n",
    "def pencil_sketch_grey(img):\n",
    "    \n",
    "    #inbuilt function to create sketch effect in colour and greyscale\n",
    "    sk_gray, sk_color = cv2.pencilSketch(img, sigma_s=60, sigma_r=0.07, shade_factor=0.1) \n",
    "    \n",
    "    return  sk_gray"
   ]
  },
  {
   "cell_type": "code",
   "execution_count": 18,
   "metadata": {},
   "outputs": [],
   "source": [
    "#making the grey pencil sketch\n",
    "\n",
    "a6 = pencil_sketch_grey(image)"
   ]
  },
  {
   "cell_type": "code",
   "execution_count": 19,
   "metadata": {},
   "outputs": [
    {
     "data": {
      "text/plain": [
       "True"
      ]
     },
     "execution_count": 19,
     "metadata": {},
     "output_type": "execute_result"
    }
   ],
   "source": [
    "filename = 'pencil_grey.jpg'\n",
    "  \n",
    "# Using cv2.imwrite() method\n",
    "# Saving the image\n",
    "cv2.imwrite(filename, a6)\n"
   ]
  },
  {
   "cell_type": "code",
   "execution_count": 20,
   "metadata": {},
   "outputs": [],
   "source": [
    "#colour pencil sketch effect\n",
    "\n",
    "def pencil_sketch_col(img):\n",
    "    \n",
    "    #inbuilt function to create sketch effect in colour and greyscale\n",
    "    sk_gray, sk_color = cv2.pencilSketch(img, sigma_s=60, sigma_r=0.07, shade_factor=0.1) \n",
    "    \n",
    "    return  sk_color"
   ]
  },
  {
   "cell_type": "code",
   "execution_count": 21,
   "metadata": {},
   "outputs": [],
   "source": [
    "#making the colour pencil sketch\n",
    "\n",
    "a7 = pencil_sketch_col(image)"
   ]
  },
  {
   "cell_type": "code",
   "execution_count": 22,
   "metadata": {},
   "outputs": [
    {
     "data": {
      "text/plain": [
       "True"
      ]
     },
     "execution_count": 22,
     "metadata": {},
     "output_type": "execute_result"
    }
   ],
   "source": [
    "filename = 'pencil_col.jpg'\n",
    "  \n",
    "# Using cv2.imwrite() method\n",
    "# Saving the image\n",
    "cv2.imwrite(filename, a7)\n"
   ]
  },
  {
   "cell_type": "code",
   "execution_count": 23,
   "metadata": {},
   "outputs": [],
   "source": [
    "#HDR effect\n",
    "\n",
    "def HDR(img):\n",
    "    \n",
    "    hdr = cv2.detailEnhance(img, sigma_s=12, sigma_r=0.15)\n",
    "    return  hdr"
   ]
  },
  {
   "cell_type": "code",
   "execution_count": 24,
   "metadata": {},
   "outputs": [],
   "source": [
    "#making the hdr img\n",
    "\n",
    "a8 = HDR(image)"
   ]
  },
  {
   "cell_type": "code",
   "execution_count": 25,
   "metadata": {},
   "outputs": [
    {
     "data": {
      "text/plain": [
       "True"
      ]
     },
     "execution_count": 25,
     "metadata": {},
     "output_type": "execute_result"
    }
   ],
   "source": [
    "filename = 'HDR.jpg'\n",
    "  \n",
    "# Using cv2.imwrite() method\n",
    "# Saving the image\n",
    "cv2.imwrite(filename, a8)\n"
   ]
  },
  {
   "cell_type": "code",
   "execution_count": 26,
   "metadata": {},
   "outputs": [],
   "source": [
    "# invert filter\n",
    "\n",
    "def invert(img):\n",
    "    \n",
    "    inv = cv2.bitwise_not(img)\n",
    "    return inv"
   ]
  },
  {
   "cell_type": "code",
   "execution_count": 27,
   "metadata": {},
   "outputs": [],
   "source": [
    "#making the invert img\n",
    "\n",
    "a9 = invert(image)"
   ]
  },
  {
   "cell_type": "code",
   "execution_count": 28,
   "metadata": {},
   "outputs": [
    {
     "data": {
      "text/plain": [
       "True"
      ]
     },
     "execution_count": 28,
     "metadata": {},
     "output_type": "execute_result"
    }
   ],
   "source": [
    "filename = 'invert.jpg'\n",
    "  \n",
    "# Using cv2.imwrite() method\n",
    "# Saving the image\n",
    "cv2.imwrite(filename, a9)\n"
   ]
  },
  {
   "cell_type": "code",
   "execution_count": 29,
   "metadata": {},
   "outputs": [],
   "source": [
    "#defining a function\n",
    "from scipy.interpolate import UnivariateSpline\n",
    "\n",
    "\n",
    "def LookupTable(x, y):\n",
    "  spline = UnivariateSpline(x, y)\n",
    "  return spline(range(256))"
   ]
  },
  {
   "cell_type": "code",
   "execution_count": 30,
   "metadata": {},
   "outputs": [],
   "source": [
    "#winter effect\n",
    "\n",
    "def Winter(img):\n",
    "    \n",
    "    increaseLookupTable = LookupTable([0, 64, 128, 256], [0, 80, 160, 256])\n",
    "    decreaseLookupTable = LookupTable([0, 64, 128, 256], [0, 50, 100, 256])\n",
    "    blue_channel, green_channel,red_channel = cv2.split(img)\n",
    "    red_channel = cv2.LUT(red_channel, decreaseLookupTable).astype(np.uint8)\n",
    "    blue_channel = cv2.LUT(blue_channel, increaseLookupTable).astype(np.uint8)\n",
    "    win= cv2.merge((blue_channel, green_channel, red_channel))\n",
    "    \n",
    "    return win\n",
    "\n"
   ]
  },
  {
   "cell_type": "code",
   "execution_count": 31,
   "metadata": {},
   "outputs": [],
   "source": [
    "#making the winter img\n",
    "\n",
    "a10 = Winter(image)"
   ]
  },
  {
   "cell_type": "code",
   "execution_count": 32,
   "metadata": {},
   "outputs": [
    {
     "data": {
      "text/plain": [
       "True"
      ]
     },
     "execution_count": 32,
     "metadata": {},
     "output_type": "execute_result"
    }
   ],
   "source": [
    "filename = 'Winter.jpg'\n",
    "  \n",
    "# Using cv2.imwrite() method\n",
    "# Saving the image\n",
    "cv2.imwrite(filename, a10)\n"
   ]
  },
  {
   "cell_type": "code",
   "execution_count": 33,
   "metadata": {},
   "outputs": [],
   "source": [
    "#summer effect\n",
    "\n",
    "def Summer(img):\n",
    "    \n",
    "    increaseLookupTable = LookupTable([0, 64, 128, 256], [0, 80, 160, 256])\n",
    "    decreaseLookupTable = LookupTable([0, 64, 128, 256], [0, 50, 100, 256])\n",
    "    blue_channel, green_channel,red_channel  = cv2.split(img)\n",
    "    red_channel = cv2.LUT(red_channel, increaseLookupTable).astype(np.uint8)\n",
    "    blue_channel = cv2.LUT(blue_channel, decreaseLookupTable).astype(np.uint8)\n",
    "    sum= cv2.merge((blue_channel, green_channel, red_channel ))\n",
    "    \n",
    "    return sum\n",
    "\n"
   ]
  },
  {
   "cell_type": "code",
   "execution_count": 34,
   "metadata": {},
   "outputs": [],
   "source": [
    "#making the summer img\n",
    "\n",
    "a11 = Summer(image)"
   ]
  },
  {
   "cell_type": "code",
   "execution_count": 35,
   "metadata": {},
   "outputs": [
    {
     "data": {
      "text/plain": [
       "True"
      ]
     },
     "execution_count": 35,
     "metadata": {},
     "output_type": "execute_result"
    }
   ],
   "source": [
    "filename = 'Summer.jpg'\n",
    "  \n",
    "# Using cv2.imwrite() method\n",
    "# Saving the image\n",
    "cv2.imwrite(filename, a11)\n"
   ]
  },
  {
   "cell_type": "code",
   "execution_count": null,
   "metadata": {},
   "outputs": [],
   "source": []
  },
  {
   "cell_type": "code",
   "execution_count": null,
   "metadata": {},
   "outputs": [],
   "source": []
  }
 ],
 "metadata": {
  "kernelspec": {
   "display_name": "Python 3",
   "language": "python",
   "name": "python3"
  },
  "language_info": {
   "codemirror_mode": {
    "name": "ipython",
    "version": 3
   },
   "file_extension": ".py",
   "mimetype": "text/x-python",
   "name": "python",
   "nbconvert_exporter": "python",
   "pygments_lexer": "ipython3",
   "version": "3.7.4"
  }
 },
 "nbformat": 4,
 "nbformat_minor": 2
}
